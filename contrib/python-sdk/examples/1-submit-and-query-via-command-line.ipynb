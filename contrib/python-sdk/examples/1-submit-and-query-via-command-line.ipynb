{
 "cells": [
  {
   "cell_type": "markdown",
   "metadata": {},
   "source": [
    "# Prerequisites\n",
    "Install the `OpenPAI` sdk from `github` and specify your cluster information in `~/openpai.json` (or somewhere you like). (Refer to for [0-install-sdk-specify-openpai-cluster.ipynb]() more details.)"
   ]
  },
  {
   "cell_type": "code",
   "execution_count": null,
   "metadata": {},
   "outputs": [],
   "source": [
    "! opai cluster --name"
   ]
  },
  {
   "cell_type": "markdown",
   "metadata": {},
   "source": [
    "# Prepare your script locally\n",
    "We prepare an example to show how reuse the same code in local environment and in `OpenPAI` node."
   ]
  },
  {
   "cell_type": "code",
   "execution_count": null,
   "metadata": {},
   "outputs": [],
   "source": [
    "%%writefile test.py\n",
    "\n",
    "import os\n",
    "import argparse\n",
    "from openpaisdk.core import in_job_container\n",
    "\n",
    "def say_hi(name):\n",
    "    if in_job_container():\n",
    "        print('Hello, {}! I am in a container: {}'.format(name, os.environ['PAI_CONTAINER_ID']))\n",
    "    else:\n",
    "        print('Hello, {}! I am from local script: {}'.format(name, __file__))\n",
    "\n",
    "if __name__ == '__main__':\n",
    "    parser = argparse.ArgumentParser()\n",
    "    parser.add_argument('name', help='your name')\n",
    "    args = parser.parse_args()\n",
    "    say_hi(args.name)"
   ]
  },
  {
   "cell_type": "code",
   "execution_count": null,
   "metadata": {},
   "outputs": [],
   "source": [
    "! python test.py Alice"
   ]
  },
  {
   "cell_type": "markdown",
   "metadata": {},
   "source": [
    "# Submit to `OpenPAI`\n",
    "Now we will submit above command to `OpenPAI` through the `opai submit` tool. "
   ]
  },
  {
   "cell_type": "code",
   "execution_count": null,
   "metadata": {},
   "outputs": [],
   "source": [
    "! opai submit -h"
   ]
  },
  {
   "cell_type": "markdown",
   "metadata": {},
   "source": [
    "Since `OpenPAI` doesnot allow duplicated job name, you must define a unique name with `-j <job-name>`. If not defined, we use unique string as the job name."
   ]
  },
  {
   "cell_type": "code",
   "execution_count": null,
   "metadata": {},
   "outputs": [],
   "source": [
    "! opai submit -i jupyter/minimal-notebook python test.py Alice"
   ]
  },
  {
   "cell_type": "markdown",
   "metadata": {},
   "source": [
    "<font color='red'>_Note: you may need to specify `-a <cluster-alias>` if more than one cluster defined_</font>"
   ]
  },
  {
   "cell_type": "markdown",
   "metadata": {},
   "source": [
    "By clicking the printed job link, you may find below line in the `STDOUT`\n",
    "\n",
    "```\n",
    "Hello, Alice! I am in a container: container_e26_1556418566879_0058_01_000002\n",
    "```\n",
    "<font color=red>_The auto fetch of command output is under development_</font>"
   ]
  },
  {
   "cell_type": "code",
   "execution_count": null,
   "metadata": {},
   "outputs": [],
   "source": []
  }
 ],
 "metadata": {
  "kernelspec": {
   "display_name": "Python 3",
   "language": "python",
   "name": "python3"
  },
  "language_info": {
   "codemirror_mode": {
    "name": "ipython",
    "version": 3
   },
   "file_extension": ".py",
   "mimetype": "text/x-python",
   "name": "python",
   "nbconvert_exporter": "python",
   "pygments_lexer": "ipython3",
   "version": "3.6.8"
  }
 },
 "nbformat": 4,
 "nbformat_minor": 2
}
